{
 "cells": [
  {
   "cell_type": "markdown",
   "id": "a06848e3",
   "metadata": {},
   "source": [
    "# Literatura recomendada\n",
    "\n",
    "La biografía principal de este curso es el libro de Giacoli, Física para Ciencias e Ingenieria {cite}`giacoli`. Los estudiantes de la USFQ pueden encontrar este libro en la biblioteca en formato físico o digital.\n",
    "\n",
    "Adicionalmente, se ha utilizado estos recursos para la elaboración del material de clase:\n",
    " - MIT OpenCourseWare - [Electricity and Magnetism 8.02T](https://ocw.mit.edu/courses/8-02t-electricity-and-magnetism-spring-2005/)\n",
    " - Física conceptual - Paul Hewitt {cite}`hewitt`\n",
    "\n",
    "\n",
    "\n",
    "## Bibliografía\n",
    "\n",
    "```{bibliography}\n",
    "```"
   ]
  }
 ],
 "metadata": {
  "jupytext": {
   "cell_metadata_filter": "-all",
   "formats": "md:myst",
   "text_representation": {
    "extension": ".md",
    "format_name": "myst",
    "format_version": 0.13,
    "jupytext_version": "1.11.5"
   }
  },
  "kernelspec": {
   "display_name": "Python 3",
   "language": "python",
   "name": "python3"
  },
  "language_info": {
   "codemirror_mode": {
    "name": "ipython",
    "version": 3
   },
   "file_extension": ".py",
   "mimetype": "text/x-python",
   "name": "python",
   "nbconvert_exporter": "python",
   "pygments_lexer": "ipython3",
   "version": "3.8.15"
  },
  "source_map": [
   14
  ]
 },
 "nbformat": 4,
 "nbformat_minor": 5
}