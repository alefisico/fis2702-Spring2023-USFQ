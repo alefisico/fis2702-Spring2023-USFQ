{
 "cells": [
  {
   "cell_type": "markdown",
   "id": "9f802cc5",
   "metadata": {},
   "source": [
    "# Clase 1: Introdución y Campos\n",
    "\n",
    "Bienvenidos a FIS 2702 - Física para Ingenierías 2\n",
    "\n",
    "---\n",
    "\n",
    "## Quienes somos?\n",
    "\n",
    "Este semestre existen tres personas dedicadas a este curso:\n",
    "- *Alejandro* Gómez Espinosa - clase teórica\n",
    "- Pablo Ruales - ejercicios\n",
    "- Edwin Vasconez Lopez - laboratorios\n",
    "\n",
    "---\n",
    "\n",
    "Slides de esta clase se encuentran aqui:\n",
    "```{raw} html\n",
    ":file: fis2702-Spring2023-USFQ/classes/test.html\n",
    "```\n",
    "1\n",
    "```{raw} html\n",
    ":file: classes/test.html\n",
    "```\n",
    "2\n",
    "```{raw} html\n",
    ":file: test.html\n",
    "```"
   ]
  }
 ],
 "metadata": {
  "jupytext": {
   "cell_metadata_filter": "-all",
   "formats": "md:myst",
   "text_representation": {
    "extension": ".md",
    "format_name": "myst",
    "format_version": 0.13,
    "jupytext_version": "1.11.5"
   }
  },
  "kernelspec": {
   "display_name": "Python 3",
   "language": "python",
   "name": "python3"
  },
  "language_info": {
   "codemirror_mode": {
    "name": "ipython",
    "version": 3
   },
   "file_extension": ".py",
   "mimetype": "text/x-python",
   "name": "python",
   "nbconvert_exporter": "python",
   "pygments_lexer": "ipython3",
   "version": "3.8.15"
  },
  "source_map": [
   14
  ]
 },
 "nbformat": 4,
 "nbformat_minor": 5
}