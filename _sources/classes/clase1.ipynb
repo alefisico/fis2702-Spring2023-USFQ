{
 "cells": [
  {
   "cell_type": "markdown",
   "id": "c9a8d243",
   "metadata": {},
   "source": [
    "% fis2702\n",
    "% Alejandro\n",
    "% 2023-01-19\n",
    "\n",
    "# Clase 1: Introdución y Campos\n",
    "---\n",
    "\n",
    "Bienvenidos a FIS 2702 - Física para Ingenierías 2\n",
    "\n",
    "---\n",
    "\n",
    "## Quienes somos?\n",
    "\n",
    "Este semestre existen tres personas dedicadas a este curso:\n",
    "\n",
    " - **Alejandro** Gómez Espinosa - clase teórica\n",
    " - Pablo Ruales - ejercicios\n",
    " - Edwin Vasconez Lopez - laboratorios\n",
    "\n",
    "---\n",
    "\n",
    "Quiero tratar de que las clases sean muy interactivas. Es por eso que durante las clases vamos a usar la plataforma [Quizizz](https://quizizz.com)\n",
    "\n",
    "Esta nos sirve para tomar interactuar con todos ustedes. Cuando vean este logo\n",
    "\n",
    "![quiz](../images/quizizz.png){width=100px}\n",
    "\n",
    "__es quizizz time__!\n",
    "\n",
    "Probemos con https://quizizz.com/admin/presentation/63c95e77651957001d9b6f1c?source=lesson_share\n",
    "\n",
    "---\n",
    "\n",
    "Slides de esta clase se encuentran [aqui](test.html) [aca](classes/test.html) [o aca](https://alefisico.github.io/fis2702-Spring2023-USFQ/classes/clase1.html):"
   ]
  }
 ],
 "metadata": {
  "jupytext": {
   "cell_metadata_filter": "-all",
   "formats": "md:myst",
   "text_representation": {
    "extension": ".md",
    "format_name": "myst",
    "format_version": 0.13,
    "jupytext_version": "1.11.5"
   }
  },
  "kernelspec": {
   "display_name": "Python 3",
   "language": "python",
   "name": "python3"
  },
  "language_info": {
   "codemirror_mode": {
    "name": "ipython",
    "version": 3
   },
   "file_extension": ".py",
   "mimetype": "text/x-python",
   "name": "python",
   "nbconvert_exporter": "python",
   "pygments_lexer": "ipython3",
   "version": "3.8.15"
  },
  "source_map": [
   14
  ]
 },
 "nbformat": 4,
 "nbformat_minor": 5
}