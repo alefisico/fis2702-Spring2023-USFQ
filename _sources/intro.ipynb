{
 "cells": [
  {
   "cell_type": "markdown",
   "id": "739695e1",
   "metadata": {},
   "source": [
    "# Bienvenidos a FIS 2702 - Física para Ingenierías 2\n",
    "\n",
    "Esta pagina contiene las notas y el material de clase para el desarrollo de este curso en el segundo semestre 2022-2023. Este material esta en constante creación por lo que se recomienda actualizar la página cada vez que es accedida.\n",
    "\n",
    "Primero, no te olvides de seguir el [código de convivencia](codeconduct.md).\n",
    "\n",
    "``````{admonition} Descripción del curso\n",
    ":class: tip\n",
    "Los profesionales de todos los campos de la ingeniería requieren un conocimiento claro de los modelos físicos que describen y permiten comprender en forma completa, detallada y cuantitativa los conceptos de carga y corriente eléctrica, además del campo eléctrico y el campo magnético considerados separadamente y luego en forma conjunta como constituyentes del campo electromagnético y sus aplicaciones. Estos campos describen todos los fenómenos electromagnéticos los cuales constituyen la base física de gran parte de la tecnología moderna.\n",
    "``````\n",
    "\n",
    "El contenido general del curso se encuentra [aqui](content.md), y en los siguientes links puedes encontrar las notas de la clase.\n",
    "\n",
    "```{tableofcontents}\n",
    "```"
   ]
  }
 ],
 "metadata": {
  "jupytext": {
   "cell_metadata_filter": "-all",
   "formats": "md:myst",
   "text_representation": {
    "extension": ".md",
    "format_name": "myst",
    "format_version": 0.13,
    "jupytext_version": "1.11.5"
   }
  },
  "kernelspec": {
   "display_name": "Python 3",
   "language": "python",
   "name": "python3"
  },
  "language_info": {
   "codemirror_mode": {
    "name": "ipython",
    "version": 3
   },
   "file_extension": ".py",
   "mimetype": "text/x-python",
   "name": "python",
   "nbconvert_exporter": "python",
   "pygments_lexer": "ipython3",
   "version": "3.8.15"
  },
  "source_map": [
   14
  ]
 },
 "nbformat": 4,
 "nbformat_minor": 5
}