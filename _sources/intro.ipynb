{
 "cells": [
  {
   "cell_type": "markdown",
   "id": "08a55d63",
   "metadata": {},
   "source": [
    "# Bienvenidos a FIS 2702 - Física para Ingenierías 2\n",
    "\n",
    "Esta pagina contiene las notas y el material de clase para el desarrollo de este curso en el segundo semestre 2022-2023. Este material esta en constante creación por lo que se recomienda actualizar la página cada vez que es accedida.\n",
    "\n",
    "Primero, no te olvides de seguir el [código de convivencia](codeconduct.md).\n",
    "\n",
    "```{seealso}\n",
    "Recuerda que las clases son:\n",
    "```\n",
    "\n",
    "```{tableofcontents}\n",
    "```"
   ]
  }
 ],
 "metadata": {
  "jupytext": {
   "cell_metadata_filter": "-all",
   "formats": "md:myst",
   "text_representation": {
    "extension": ".md",
    "format_name": "myst",
    "format_version": 0.13,
    "jupytext_version": "1.11.5"
   }
  },
  "kernelspec": {
   "display_name": "Python 3",
   "language": "python",
   "name": "python3"
  },
  "language_info": {
   "codemirror_mode": {
    "name": "ipython",
    "version": 3
   },
   "file_extension": ".py",
   "mimetype": "text/x-python",
   "name": "python",
   "nbconvert_exporter": "python",
   "pygments_lexer": "ipython3",
   "version": "3.8.15"
  },
  "source_map": [
   14
  ]
 },
 "nbformat": 4,
 "nbformat_minor": 5
}