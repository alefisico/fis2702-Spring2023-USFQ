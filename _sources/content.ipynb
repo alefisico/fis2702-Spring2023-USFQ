{
 "cells": [
  {
   "cell_type": "markdown",
   "id": "a634064d",
   "metadata": {},
   "source": [
    "# Syllabus FIS 2702.\n",
    "\n",
    "El syllabus oficial de esta clase puede ser consultada en el sistema D2L de la USFQ. Aquí incluyo algunas directrices del curso.\n",
    "\n",
    "## Contenidos generales de este curso\n",
    "\n",
    " * Coordenadas esféricas y cilíndricas\n",
    " * Carga eléctrica, ley de Coulomb\n",
    " * Campos vectoriales, campo eléctrico\n",
    " * Flujo de un campo vectorial, ley de Gauss, aplicaciones\n",
    " * Potencial eléctrico, conductores\n",
    " * Capacitancia y dieléctricos\n",
    " * Corriente eléctrica y resistencia, leyes de Kirchhoff\n",
    " * Circuitos de corriente continua (circuitos RC)\n",
    " * Fuerza magnética\n",
    " * El campo magnético\n",
    " * Circulación de un campo vectorial, ley de Ampère\n",
    " * Torque magnético, motor de corriente directa\n",
    " * Inducción electromagnética, ley de Faraday, ley de Lenz\n",
    " * Generadores de corriente alterna y directa.\n",
    " * Inductancia, circuitos LR y LC\n",
    "\n",
    "## Resultados de Apredizaje\n",
    "\n",
    " 1. Analizar el concepto de carga eléctrica y sus características básicas: sus dos variedades, su cuantización y conservación.\n",
    " 1. Describir la interacción entre cargas eléctricas; el concepto de campo eléctrico y su análisis energético como campo conservativo.\n",
    " 1. Describir el fenómeno del movimiento de las cargas apoyado en conceptos como corriente eléctrica, resistencia y capacitancia.\n",
    " 1. Identificar el origen del campo magnético en el movimiento de las cargas eléctricas.\n",
    " 1. Adquirir destrezas para describir el movimiento de partículas cargadas en presencia de campos eléctricos y magnéticos, y asociarlo con problemas relacionados a la tecnología.\n",
    " 1. Desarrollar y comprender las leyes que permiten construir las ecuaciones de Maxwell.\n",
    "\n",
    "## Evaluación del curso"
   ]
  }
 ],
 "metadata": {
  "jupytext": {
   "cell_metadata_filter": "-all",
   "formats": "md:myst",
   "text_representation": {
    "extension": ".md",
    "format_name": "myst",
    "format_version": 0.13,
    "jupytext_version": "1.11.5"
   }
  },
  "kernelspec": {
   "display_name": "Python 3",
   "language": "python",
   "name": "python3"
  },
  "language_info": {
   "codemirror_mode": {
    "name": "ipython",
    "version": 3
   },
   "file_extension": ".py",
   "mimetype": "text/x-python",
   "name": "python",
   "nbconvert_exporter": "python",
   "pygments_lexer": "ipython3",
   "version": "3.8.15"
  },
  "source_map": [
   14
  ]
 },
 "nbformat": 4,
 "nbformat_minor": 5
}